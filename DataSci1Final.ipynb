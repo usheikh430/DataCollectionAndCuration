{
 "cells": [
  {
   "cell_type": "markdown",
   "id": "a3397c21",
   "metadata": {},
   "source": [
    "import pandas as pd\n",
    "import numpy as np\n",
    "\n",
    "df = pd.read_csv('imdb250.csv')"
   ]
  },
  {
   "cell_type": "markdown",
   "id": "eb0974e4",
   "metadata": {},
   "source": [
    "First, I imported pandas and numpy because it both of these packages are vital to creating and interpreting data frames"
   ]
  },
  {
   "cell_type": "code",
   "execution_count": 4,
   "id": "f90fb9db",
   "metadata": {},
   "outputs": [],
   "source": [
    "del df['Code']"
   ]
  },
  {
   "cell_type": "markdown",
   "id": "5a2d8ce9",
   "metadata": {},
   "source": [
    "Deleted a column that wasn't entirely beneficial to the dataset in the ways I meant to analyze and visualize it."
   ]
  },
  {
   "cell_type": "code",
   "execution_count": 13,
   "id": "4551bdfe",
   "metadata": {},
   "outputs": [
    {
     "data": {
      "text/html": [
       "<div>\n",
       "<style scoped>\n",
       "    .dataframe tbody tr th:only-of-type {\n",
       "        vertical-align: middle;\n",
       "    }\n",
       "\n",
       "    .dataframe tbody tr th {\n",
       "        vertical-align: top;\n",
       "    }\n",
       "\n",
       "    .dataframe thead th {\n",
       "        text-align: right;\n",
       "    }\n",
       "</style>\n",
       "<table border=\"1\" class=\"dataframe\">\n",
       "  <thead>\n",
       "    <tr style=\"text-align: right;\">\n",
       "      <th></th>\n",
       "      <th>Rating</th>\n",
       "    </tr>\n",
       "  </thead>\n",
       "  <tbody>\n",
       "    <tr>\n",
       "      <th>count</th>\n",
       "      <td>250.000000</td>\n",
       "    </tr>\n",
       "    <tr>\n",
       "      <th>mean</th>\n",
       "      <td>8.646400</td>\n",
       "    </tr>\n",
       "    <tr>\n",
       "      <th>std</th>\n",
       "      <td>0.220639</td>\n",
       "    </tr>\n",
       "    <tr>\n",
       "      <th>min</th>\n",
       "      <td>8.400000</td>\n",
       "    </tr>\n",
       "    <tr>\n",
       "      <th>25%</th>\n",
       "      <td>8.500000</td>\n",
       "    </tr>\n",
       "    <tr>\n",
       "      <th>50%</th>\n",
       "      <td>8.600000</td>\n",
       "    </tr>\n",
       "    <tr>\n",
       "      <th>75%</th>\n",
       "      <td>8.700000</td>\n",
       "    </tr>\n",
       "    <tr>\n",
       "      <th>max</th>\n",
       "      <td>9.400000</td>\n",
       "    </tr>\n",
       "  </tbody>\n",
       "</table>\n",
       "</div>"
      ],
      "text/plain": [
       "           Rating\n",
       "count  250.000000\n",
       "mean     8.646400\n",
       "std      0.220639\n",
       "min      8.400000\n",
       "25%      8.500000\n",
       "50%      8.600000\n",
       "75%      8.700000\n",
       "max      9.400000"
      ]
     },
     "execution_count": 13,
     "metadata": {},
     "output_type": "execute_result"
    }
   ],
   "source": [
    "df.describe()"
   ]
  },
  {
   "cell_type": "code",
   "execution_count": 12,
   "id": "b6541f5d",
   "metadata": {},
   "outputs": [
    {
     "data": {
      "text/plain": [
       "9.4"
      ]
     },
     "execution_count": 12,
     "metadata": {},
     "output_type": "execute_result"
    }
   ],
   "source": [
    "df[df['Title'] == 'Planet Earth II' ]['Rating'].mean()"
   ]
  },
  {
   "cell_type": "code",
   "execution_count": 14,
   "id": "01113560",
   "metadata": {},
   "outputs": [
    {
     "data": {
      "text/plain": [
       "9.4"
      ]
     },
     "execution_count": 14,
     "metadata": {},
     "output_type": "execute_result"
    }
   ],
   "source": [
    "df[df['Title'] == 'Breaking Bad' ]['Rating'].mean()"
   ]
  },
  {
   "cell_type": "code",
   "execution_count": 17,
   "id": "d9d2d622",
   "metadata": {},
   "outputs": [
    {
     "data": {
      "text/plain": [
       "8.9"
      ]
     },
     "execution_count": 17,
     "metadata": {},
     "output_type": "execute_result"
    }
   ],
   "source": [
    "df[df['Title'] == 'Hunter x Hunter' ]['Rating'].mean()"
   ]
  },
  {
   "cell_type": "markdown",
   "id": "3e2a7200",
   "metadata": {},
   "source": [
    "Here, I calculated the average rating for certain TV series that are included in the dataset. I did this to identify that there are differences in the average ratings for the TV series included in the dataset, which could then be observed and visualized."
   ]
  },
  {
   "cell_type": "code",
   "execution_count": 100,
   "id": "0ebf70f7",
   "metadata": {},
   "outputs": [],
   "source": [
    "titles = df.groupby('Title')\n",
    "titles_avg = df.groupby('Title').mean()"
   ]
  },
  {
   "cell_type": "code",
   "execution_count": null,
   "id": "e7f34550",
   "metadata": {},
   "outputs": [],
   "source": [
    "I created to different iterations of the dataframe. The first one groups the data by its title.\n",
    "The second group groups the data by Title to then find the average of the ratings in each group."
   ]
  },
  {
   "cell_type": "code",
   "execution_count": 29,
   "id": "61b1367b",
   "metadata": {},
   "outputs": [],
   "source": [
    "import seaborn as sns\n",
    "import matplotlib.pyplot as plt\n"
   ]
  },
  {
   "cell_type": "code",
   "execution_count": 110,
   "id": "c11ec325",
   "metadata": {},
   "outputs": [
    {
     "data": {
      "text/plain": [
       "Text(0, 0.5, 'number of observations')"
      ]
     },
     "execution_count": 110,
     "metadata": {},
     "output_type": "execute_result"
    },
    {
     "data": {
      "image/png": "[encoded data removed]",
      "text/plain": [
       "<Figure size 432x288 with 1 Axes>"
      ]
     },
     "metadata": {
      "needs_background": "light"
     },
     "output_type": "display_data"
    }
   ],
   "source": [
    "titles_avg.hist('Rating')\n",
    "plt.ylabel('number of observations')"
   ]
  },
  {
   "cell_type": "markdown",
   "id": "3c66c616",
   "metadata": {},
   "source": [
    "Created a histogram to show the distribution of the average ratings for TV shows in the IMDB's Top 250 list"
   ]
  },
  {
   "cell_type": "code",
   "execution_count": null,
   "id": "aa680ade",
   "metadata": {},
   "outputs": [],
   "source": []
  },
  {
   "cell_type": "code",
   "execution_count": 107,
   "id": "3bb23a09",
   "metadata": {},
   "outputs": [
    {
     "data": {
      "text/html": [
       "<div>\n",
       "<style scoped>\n",
       "    .dataframe tbody tr th:only-of-type {\n",
       "        vertical-align: middle;\n",
       "    }\n",
       "\n",
       "    .dataframe tbody tr th {\n",
       "        vertical-align: top;\n",
       "    }\n",
       "\n",
       "    .dataframe thead th {\n",
       "        text-align: right;\n",
       "    }\n",
       "</style>\n",
       "<table border=\"1\" class=\"dataframe\">\n",
       "  <thead>\n",
       "    <tr style=\"text-align: right;\">\n",
       "      <th></th>\n",
       "      <th>Code</th>\n",
       "      <th>Title</th>\n",
       "      <th>Code.1</th>\n",
       "      <th>Rating</th>\n",
       "      <th>Rating Count</th>\n",
       "    </tr>\n",
       "  </thead>\n",
       "  <tbody>\n",
       "    <tr>\n",
       "      <th>0</th>\n",
       "      <td>tt5491994</td>\n",
       "      <td>Planet Earth II</td>\n",
       "      <td>tt5491994</td>\n",
       "      <td>9.4</td>\n",
       "      <td>142,844</td>\n",
       "    </tr>\n",
       "    <tr>\n",
       "      <th>1</th>\n",
       "      <td>tt0903747</td>\n",
       "      <td>Breaking Bad</td>\n",
       "      <td>tt0903747</td>\n",
       "      <td>9.4</td>\n",
       "      <td>1,817,275</td>\n",
       "    </tr>\n",
       "    <tr>\n",
       "      <th>2</th>\n",
       "      <td>tt0795176</td>\n",
       "      <td>Planet Earth</td>\n",
       "      <td>tt0795176</td>\n",
       "      <td>9.4</td>\n",
       "      <td>208,191</td>\n",
       "    </tr>\n",
       "    <tr>\n",
       "      <th>3</th>\n",
       "      <td>tt0185906</td>\n",
       "      <td>Band of Brothers</td>\n",
       "      <td>tt0185906</td>\n",
       "      <td>9.4</td>\n",
       "      <td>460,468</td>\n",
       "    </tr>\n",
       "    <tr>\n",
       "      <th>4</th>\n",
       "      <td>tt7366338</td>\n",
       "      <td>Chernobyl</td>\n",
       "      <td>tt7366338</td>\n",
       "      <td>9.3</td>\n",
       "      <td>729,461</td>\n",
       "    </tr>\n",
       "    <tr>\n",
       "      <th>...</th>\n",
       "      <td>...</td>\n",
       "      <td>...</td>\n",
       "      <td>...</td>\n",
       "      <td>...</td>\n",
       "      <td>...</td>\n",
       "    </tr>\n",
       "    <tr>\n",
       "      <th>245</th>\n",
       "      <td>tt5249462</td>\n",
       "      <td>Erased</td>\n",
       "      <td>tt5249462</td>\n",
       "      <td>8.4</td>\n",
       "      <td>45,760</td>\n",
       "    </tr>\n",
       "    <tr>\n",
       "      <th>246</th>\n",
       "      <td>tt0988818</td>\n",
       "      <td>Gintama</td>\n",
       "      <td>tt0988818</td>\n",
       "      <td>8.4</td>\n",
       "      <td>11,177</td>\n",
       "    </tr>\n",
       "    <tr>\n",
       "      <th>247</th>\n",
       "      <td>tt7259746</td>\n",
       "      <td>Queer Eye</td>\n",
       "      <td>tt7259746</td>\n",
       "      <td>8.4</td>\n",
       "      <td>18,877</td>\n",
       "    </tr>\n",
       "    <tr>\n",
       "      <th>248</th>\n",
       "      <td>tt1298820</td>\n",
       "      <td>Clannad: After Story</td>\n",
       "      <td>tt1298820</td>\n",
       "      <td>8.4</td>\n",
       "      <td>11,239</td>\n",
       "    </tr>\n",
       "    <tr>\n",
       "      <th>249</th>\n",
       "      <td>tt0043208</td>\n",
       "      <td>I Love Lucy</td>\n",
       "      <td>tt0043208</td>\n",
       "      <td>8.4</td>\n",
       "      <td>26,622</td>\n",
       "    </tr>\n",
       "  </tbody>\n",
       "</table>\n",
       "<p>250 rows × 5 columns</p>\n",
       "</div>"
      ],
      "text/plain": [
       "          Code                 Title     Code.1  Rating Rating Count\n",
       "0    tt5491994       Planet Earth II  tt5491994     9.4      142,844\n",
       "1    tt0903747          Breaking Bad  tt0903747     9.4    1,817,275\n",
       "2    tt0795176          Planet Earth  tt0795176     9.4      208,191\n",
       "3    tt0185906      Band of Brothers  tt0185906     9.4      460,468\n",
       "4    tt7366338             Chernobyl  tt7366338     9.3      729,461\n",
       "..         ...                   ...        ...     ...          ...\n",
       "245  tt5249462                Erased  tt5249462     8.4       45,760\n",
       "246  tt0988818               Gintama  tt0988818     8.4       11,177\n",
       "247  tt7259746             Queer Eye  tt7259746     8.4       18,877\n",
       "248  tt1298820  Clannad: After Story  tt1298820     8.4       11,239\n",
       "249  tt0043208           I Love Lucy  tt0043208     8.4       26,622\n",
       "\n",
       "[250 rows x 5 columns]"
      ]
     },
     "execution_count": 107,
     "metadata": {},
     "output_type": "execute_result"
    }
   ],
   "source": [
    "titles.head()"
   ]
  },
  {
   "cell_type": "code",
   "execution_count": 108,
   "id": "7ff70cca",
   "metadata": {},
   "outputs": [],
   "source": [
    "titles_grouped = df.groupby(['Code', 'Title', 'Rating Count'])\n",
    "titles_grouped.sum().reset_index().to_csv('titles_grouped.csv')"
   ]
  },
  {
   "cell_type": "markdown",
   "id": "5bcbda04",
   "metadata": {},
   "source": [
    "Created another dataset from df, grouped by Code, Title, and Rating Count. Then used the to_csv() function to save the new dataset as a .csv file"
   ]
  },
  {
   "cell_type": "code",
   "execution_count": 99,
   "id": "00009f8c",
   "metadata": {},
   "outputs": [
    {
     "data": {
      "text/html": [
       "<div>\n",
       "<style scoped>\n",
       "    .dataframe tbody tr th:only-of-type {\n",
       "        vertical-align: middle;\n",
       "    }\n",
       "\n",
       "    .dataframe tbody tr th {\n",
       "        vertical-align: top;\n",
       "    }\n",
       "\n",
       "    .dataframe thead th {\n",
       "        text-align: right;\n",
       "    }\n",
       "</style>\n",
       "<table border=\"1\" class=\"dataframe\">\n",
       "  <thead>\n",
       "    <tr style=\"text-align: right;\">\n",
       "      <th></th>\n",
       "      <th>Code</th>\n",
       "      <th>Title</th>\n",
       "      <th>Code.1</th>\n",
       "      <th>Rating</th>\n",
       "      <th>Rating Count</th>\n",
       "    </tr>\n",
       "  </thead>\n",
       "  <tbody>\n",
       "    <tr>\n",
       "      <th>0</th>\n",
       "      <td>tt5491994</td>\n",
       "      <td>Planet Earth II</td>\n",
       "      <td>tt5491994</td>\n",
       "      <td>9.4</td>\n",
       "      <td>142,844</td>\n",
       "    </tr>\n",
       "    <tr>\n",
       "      <th>1</th>\n",
       "      <td>tt0903747</td>\n",
       "      <td>Breaking Bad</td>\n",
       "      <td>tt0903747</td>\n",
       "      <td>9.4</td>\n",
       "      <td>1,817,275</td>\n",
       "    </tr>\n",
       "    <tr>\n",
       "      <th>2</th>\n",
       "      <td>tt0795176</td>\n",
       "      <td>Planet Earth</td>\n",
       "      <td>tt0795176</td>\n",
       "      <td>9.4</td>\n",
       "      <td>208,191</td>\n",
       "    </tr>\n",
       "    <tr>\n",
       "      <th>3</th>\n",
       "      <td>tt0185906</td>\n",
       "      <td>Band of Brothers</td>\n",
       "      <td>tt0185906</td>\n",
       "      <td>9.4</td>\n",
       "      <td>460,468</td>\n",
       "    </tr>\n",
       "    <tr>\n",
       "      <th>4</th>\n",
       "      <td>tt7366338</td>\n",
       "      <td>Chernobyl</td>\n",
       "      <td>tt7366338</td>\n",
       "      <td>9.3</td>\n",
       "      <td>729,461</td>\n",
       "    </tr>\n",
       "    <tr>\n",
       "      <th>...</th>\n",
       "      <td>...</td>\n",
       "      <td>...</td>\n",
       "      <td>...</td>\n",
       "      <td>...</td>\n",
       "      <td>...</td>\n",
       "    </tr>\n",
       "    <tr>\n",
       "      <th>245</th>\n",
       "      <td>tt5249462</td>\n",
       "      <td>Erased</td>\n",
       "      <td>tt5249462</td>\n",
       "      <td>8.4</td>\n",
       "      <td>45,760</td>\n",
       "    </tr>\n",
       "    <tr>\n",
       "      <th>246</th>\n",
       "      <td>tt0988818</td>\n",
       "      <td>Gintama</td>\n",
       "      <td>tt0988818</td>\n",
       "      <td>8.4</td>\n",
       "      <td>11,177</td>\n",
       "    </tr>\n",
       "    <tr>\n",
       "      <th>247</th>\n",
       "      <td>tt7259746</td>\n",
       "      <td>Queer Eye</td>\n",
       "      <td>tt7259746</td>\n",
       "      <td>8.4</td>\n",
       "      <td>18,877</td>\n",
       "    </tr>\n",
       "    <tr>\n",
       "      <th>248</th>\n",
       "      <td>tt1298820</td>\n",
       "      <td>Clannad: After Story</td>\n",
       "      <td>tt1298820</td>\n",
       "      <td>8.4</td>\n",
       "      <td>11,239</td>\n",
       "    </tr>\n",
       "    <tr>\n",
       "      <th>249</th>\n",
       "      <td>tt0043208</td>\n",
       "      <td>I Love Lucy</td>\n",
       "      <td>tt0043208</td>\n",
       "      <td>8.4</td>\n",
       "      <td>26,622</td>\n",
       "    </tr>\n",
       "  </tbody>\n",
       "</table>\n",
       "<p>250 rows × 5 columns</p>\n",
       "</div>"
      ],
      "text/plain": [
       "          Code                 Title     Code.1  Rating Rating Count\n",
       "0    tt5491994       Planet Earth II  tt5491994     9.4      142,844\n",
       "1    tt0903747          Breaking Bad  tt0903747     9.4    1,817,275\n",
       "2    tt0795176          Planet Earth  tt0795176     9.4      208,191\n",
       "3    tt0185906      Band of Brothers  tt0185906     9.4      460,468\n",
       "4    tt7366338             Chernobyl  tt7366338     9.3      729,461\n",
       "..         ...                   ...        ...     ...          ...\n",
       "245  tt5249462                Erased  tt5249462     8.4       45,760\n",
       "246  tt0988818               Gintama  tt0988818     8.4       11,177\n",
       "247  tt7259746             Queer Eye  tt7259746     8.4       18,877\n",
       "248  tt1298820  Clannad: After Story  tt1298820     8.4       11,239\n",
       "249  tt0043208           I Love Lucy  tt0043208     8.4       26,622\n",
       "\n",
       "[250 rows x 5 columns]"
      ]
     },
     "execution_count": 99,
     "metadata": {},
     "output_type": "execute_result"
    }
   ],
   "source": [
    "titles_grouped.head()"
   ]
  },
  {
   "cell_type": "markdown",
   "id": "c83f08ba",
   "metadata": {},
   "source": [
    "A preview of the new file."
   ]
  }
 ],
 "metadata": {
  "kernelspec": {
   "display_name": "Python 3 (ipykernel)",
   "language": "python",
   "name": "python3"
  },
  "language_info": {
   "codemirror_mode": {
    "name": "ipython",
    "version": 3
   },
   "file_extension": ".py",
   "mimetype": "text/x-python",
   "name": "python",
   "nbconvert_exporter": "python",
   "pygments_lexer": "ipython3",
   "version": "3.9.12"
  }
 },
 "nbformat": 4,
 "nbformat_minor": 5
}
